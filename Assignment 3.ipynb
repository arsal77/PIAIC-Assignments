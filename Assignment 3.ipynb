{
 "cells": [
  {
   "cell_type": "code",
   "execution_count": 29,
   "metadata": {},
   "outputs": [
    {
     "name": "stdout",
     "output_type": "stream",
     "text": [
      "The number of words in the file are 6\n"
     ]
    }
   ],
   "source": [
    "def count_words(file_name):\n",
    "    with open(file_name) as f:\n",
    "        x=f.read()\n",
    "        list=x.split()\n",
    "        words=len(list)\n",
    "        \n",
    "        print(\"The number of words in the file are\",words)\n",
    "        \n",
    "count_words(\"file.txt\")"
   ]
  },
  {
   "cell_type": "code",
   "execution_count": 30,
   "metadata": {},
   "outputs": [
    {
     "name": "stdout",
     "output_type": "stream",
     "text": [
      "The number of lines in the file are 3\n"
     ]
    }
   ],
   "source": [
    "def count_lines(file_name):\n",
    "    with open(file_name) as f:\n",
    "        linecount=1\n",
    "        x=f.read()\n",
    "        for i in x:\n",
    "            if i=='\\n':\n",
    "                linecount+=1\n",
    "            \n",
    "            \n",
    "    print(\"The number of lines in the file are\",linecount)\n",
    "count_lines(\"file.txt\")  "
   ]
  },
  {
   "cell_type": "code",
   "execution_count": 38,
   "metadata": {},
   "outputs": [
    {
     "name": "stdout",
     "output_type": "stream",
     "text": [
      "The number of spaces in the file are 7\n"
     ]
    }
   ],
   "source": [
    "def count_spaces(file_name):\n",
    "    with open(file_name) as f:\n",
    "        count=0\n",
    "        x=f.read()\n",
    "        for i in x:\n",
    "            if i==\" \":\n",
    "                count+=1\n",
    "    print(\"The number of spaces in the file are\",count)   \n",
    "count_spaces(\"file.txt\")"
   ]
  },
  {
   "cell_type": "code",
   "execution_count": 39,
   "metadata": {},
   "outputs": [
    {
     "name": "stdout",
     "output_type": "stream",
     "text": [
      "The number of tabs in the file are 1\n"
     ]
    }
   ],
   "source": [
    "def count_tabs(file_name):\n",
    "    with open(file_name) as f:\n",
    "        count=0\n",
    "        x=f.read()\n",
    "        for i in x:\n",
    "            if i==\"\\t\":\n",
    "                count+=1\n",
    "        print(\"The number of tabs in the file are\",count) \n",
    "count_tabs('file.txt')  "
   ]
  },
  {
   "cell_type": "code",
   "execution_count": 40,
   "metadata": {},
   "outputs": [
    {
     "name": "stdout",
     "output_type": "stream",
     "text": [
      "The number of paragraphs in the file are 3\n"
     ]
    }
   ],
   "source": [
    "def count_para(file_name):\n",
    "    con=False\n",
    "    count_para=1\n",
    "    with open(file_name) as f:\n",
    "        \n",
    "        for lines in f:\n",
    "            \n",
    "            for x in lines:\n",
    "                \n",
    "                if x==\" \" and con==False:\n",
    "                    con=True\n",
    "                    continue\n",
    "                if (x==\" \" and con==True):\n",
    "                    count_para+=1\n",
    "                    break\n",
    "                if (x==\"\\t\"):\n",
    "                    count_para+=1\n",
    "                    break\n",
    "                    \n",
    "                \n",
    "                else:\n",
    "                    break\n",
    "        print(\"The number of paragraphs in the file are\",count_para)\n",
    "        \n",
    "count_para(\"file.txt\")   \n"
   ]
  },
  {
   "cell_type": "code",
   "execution_count": null,
   "metadata": {},
   "outputs": [],
   "source": [
    "def tags(file_name):\n",
    "    import requests\n",
    "    r=requests.get(file_name)\n",
    "    \n",
    "    \n",
    "    from bs4 import BeautifulSoup as f\n",
    "    x=f(r.text,'html.parser')\n",
    "    num=0\n",
    "    for tag in x.find_all():\n",
    "        num+=1\n",
    "        print(tag.name)\n",
    "    print(num)    \n",
    "\n",
    "tags('http://toscrape.com/') "
   ]
  }
 ],
 "metadata": {
  "kernelspec": {
   "display_name": "Python 3",
   "language": "python",
   "name": "python3"
  },
  "language_info": {
   "codemirror_mode": {
    "name": "ipython",
    "version": 3
   },
   "file_extension": ".py",
   "mimetype": "text/x-python",
   "name": "python",
   "nbconvert_exporter": "python",
   "pygments_lexer": "ipython3",
   "version": "3.7.3"
  }
 },
 "nbformat": 4,
 "nbformat_minor": 2
}
