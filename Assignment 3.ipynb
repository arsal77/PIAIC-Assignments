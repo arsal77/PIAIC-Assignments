{
 "cells": [
  {
   "cell_type": "code",
   "execution_count": 37,
   "metadata": {},
   "outputs": [
    {
     "name": "stdout",
     "output_type": "stream",
     "text": [
      "The number of words in the file are 38128\n"
     ]
    }
   ],
   "source": [
    "\n",
    "def count_words(file_name):\n",
    "        f=open(file_name , encoding ='utf8')\n",
    "        x=f.read()\n",
    "        list=x.split()\n",
    "        words=len(list)\n",
    "        f.close()\n",
    "        \n",
    "        print(\"The number of words in the file are\",words)\n",
    "        \n",
    "count_words(\"sample_text_file.txt4\")"
   ]
  },
  {
   "cell_type": "code",
   "execution_count": 38,
   "metadata": {},
   "outputs": [
    {
     "name": "stdout",
     "output_type": "stream",
     "text": [
      "The number of lines in the file are 4822\n"
     ]
    }
   ],
   "source": [
    "def count_lines(file_name):\n",
    "    f=open(file_name , encoding ='utf8')\n",
    "    linecount=1\n",
    "    x=f.read()\n",
    "    for i in x:\n",
    "        if i=='\\n':\n",
    "            linecount+=1\n",
    "    f.close()   \n",
    "            \n",
    "    print(\"The number of lines in the file are\",linecount)\n",
    "count_lines(\"sample_text_file.txt4\")  "
   ]
  },
  {
   "cell_type": "code",
   "execution_count": 39,
   "metadata": {},
   "outputs": [
    {
     "name": "stdout",
     "output_type": "stream",
     "text": [
      "The number of spaces in the file are 54320\n"
     ]
    }
   ],
   "source": [
    "def count_spaces(file_name):\n",
    "    f=open(file_name , encoding ='utf8')\n",
    "    count=0\n",
    "    x=f.read()\n",
    "    for i in x:\n",
    "        if i==\" \":\n",
    "            count+=1\n",
    "    f.close()       \n",
    "    print(\"The number of spaces in the file are\",count)   \n",
    "count_spaces(\"sample_text_file.txt4\")"
   ]
  },
  {
   "cell_type": "code",
   "execution_count": 40,
   "metadata": {},
   "outputs": [
    {
     "name": "stdout",
     "output_type": "stream",
     "text": [
      "The number of tabs in the file are 34\n"
     ]
    }
   ],
   "source": [
    "def count_tabs(file_name):\n",
    "    f=open(file_name , encoding ='utf8')\n",
    "    count=0\n",
    "    x=f.read()\n",
    "    for i in x:\n",
    "        if i==\"\\t\":\n",
    "            count+=1\n",
    "    print(\"The number of tabs in the file are\",count)\n",
    "    f.close()\n",
    "count_tabs(\"sample_text_file.txt4\")  "
   ]
  },
  {
   "cell_type": "code",
   "execution_count": 41,
   "metadata": {},
   "outputs": [
    {
     "name": "stdout",
     "output_type": "stream",
     "text": [
      "The number of paragraphs in the file are 2520\n"
     ]
    }
   ],
   "source": [
    "def count_para(file_name):\n",
    "    f=open(file_name , encoding ='utf8')\n",
    "    con=False\n",
    "    count_para=1\n",
    "   \n",
    "        \n",
    "    for lines in f:\n",
    "            \n",
    "        for x in lines:\n",
    "                \n",
    "                if x==\" \" and con==False:\n",
    "                    con=True\n",
    "                    continue\n",
    "                if (x==\" \" and con==True):\n",
    "                    count_para+=1\n",
    "                    break\n",
    "                if (x==\"\\t\"):\n",
    "                    count_para+=1\n",
    "                    break\n",
    "                    \n",
    "                \n",
    "                else:\n",
    "                    break\n",
    "    print(\"The number of paragraphs in the file are\",count_para)\n",
    "    f.close()\n",
    "        \n",
    "count_para(\"sample_text_file.txt4\")   \n"
   ]
  },
  {
   "cell_type": "code",
   "execution_count": 82,
   "metadata": {},
   "outputs": [
    {
     "name": "stdout",
     "output_type": "stream",
     "text": [
      "html\n",
      "head\n",
      "title\n",
      "style\n",
      "body\n",
      "h1\n",
      "p\n",
      "p\n",
      "p\n",
      "a\n",
      "The number of tags are 10\n"
     ]
    }
   ],
   "source": [
    "\n",
    "def tags(file_name):\n",
    "    \n",
    "    with open(\"example_html_file.html\") as a:\n",
    "        alpha=a.read()\n",
    "    from bs4 import BeautifulSoup as f\n",
    "    x=f(alpha,'html.parser')\n",
    "    num=0\n",
    "    for tag in x.find_all():\n",
    "        num+=1\n",
    "        print(tag.name)\n",
    "    print(\"The number of tags are\",num)    \n",
    "\n",
    "tags(\"http://C:/Users/User-PC/example_html_file.html\") "
   ]
  },
  {
   "cell_type": "code",
   "execution_count": null,
   "metadata": {},
   "outputs": [],
   "source": []
  },
  {
   "cell_type": "code",
   "execution_count": null,
   "metadata": {},
   "outputs": [],
   "source": []
  }
 ],
 "metadata": {
  "kernelspec": {
   "display_name": "Python 3",
   "language": "python",
   "name": "python3"
  },
  "language_info": {
   "codemirror_mode": {
    "name": "ipython",
    "version": 3
   },
   "file_extension": ".py",
   "mimetype": "text/x-python",
   "name": "python",
   "nbconvert_exporter": "python",
   "pygments_lexer": "ipython3",
   "version": "3.7.3"
  }
 },
 "nbformat": 4,
 "nbformat_minor": 2
}
